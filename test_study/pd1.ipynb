{
 "cells": [
  {
   "cell_type": "code",
   "execution_count": 3,
   "metadata": {
    "collapsed": true
   },
   "outputs": [
    {
     "data": {
      "text/plain": "   band_wv  fac_value\n0      400   71.82168\n1      450   55.99082\n2      500   64.02952\n3      600   70.84343\n4      675   79.54338\n5      810  104.86160\n6     1000  168.29550\n7     1550  457.17890",
      "text/html": "<div>\n<style scoped>\n    .dataframe tbody tr th:only-of-type {\n        vertical-align: middle;\n    }\n\n    .dataframe tbody tr th {\n        vertical-align: top;\n    }\n\n    .dataframe thead th {\n        text-align: right;\n    }\n</style>\n<table border=\"1\" class=\"dataframe\">\n  <thead>\n    <tr style=\"text-align: right;\">\n      <th></th>\n      <th>band_wv</th>\n      <th>fac_value</th>\n    </tr>\n  </thead>\n  <tbody>\n    <tr>\n      <th>0</th>\n      <td>400</td>\n      <td>71.82168</td>\n    </tr>\n    <tr>\n      <th>1</th>\n      <td>450</td>\n      <td>55.99082</td>\n    </tr>\n    <tr>\n      <th>2</th>\n      <td>500</td>\n      <td>64.02952</td>\n    </tr>\n    <tr>\n      <th>3</th>\n      <td>600</td>\n      <td>70.84343</td>\n    </tr>\n    <tr>\n      <th>4</th>\n      <td>675</td>\n      <td>79.54338</td>\n    </tr>\n    <tr>\n      <th>5</th>\n      <td>810</td>\n      <td>104.86160</td>\n    </tr>\n    <tr>\n      <th>6</th>\n      <td>1000</td>\n      <td>168.29550</td>\n    </tr>\n    <tr>\n      <th>7</th>\n      <td>1550</td>\n      <td>457.17890</td>\n    </tr>\n  </tbody>\n</table>\n</div>"
     },
     "execution_count": 3,
     "metadata": {},
     "output_type": "execute_result"
    }
   ],
   "source": [
    "import pandas as pd\n",
    "path = \"../example/cali_factor/ATR2019.csv\"\n",
    "df = pd.read_csv(path)\n",
    "df"
   ]
  },
  {
   "cell_type": "code",
   "execution_count": 4,
   "outputs": [
    {
     "data": {
      "text/plain": "    band_wv  fac_value\nOK                    \n0       400   71.82168\n1       450   55.99082\n2       500   64.02952\n3       600   70.84343\n4       675   79.54338\n5       810  104.86160\n6      1000  168.29550\n7      1550  457.17890",
      "text/html": "<div>\n<style scoped>\n    .dataframe tbody tr th:only-of-type {\n        vertical-align: middle;\n    }\n\n    .dataframe tbody tr th {\n        vertical-align: top;\n    }\n\n    .dataframe thead th {\n        text-align: right;\n    }\n</style>\n<table border=\"1\" class=\"dataframe\">\n  <thead>\n    <tr style=\"text-align: right;\">\n      <th></th>\n      <th>band_wv</th>\n      <th>fac_value</th>\n    </tr>\n    <tr>\n      <th>OK</th>\n      <th></th>\n      <th></th>\n    </tr>\n  </thead>\n  <tbody>\n    <tr>\n      <th>0</th>\n      <td>400</td>\n      <td>71.82168</td>\n    </tr>\n    <tr>\n      <th>1</th>\n      <td>450</td>\n      <td>55.99082</td>\n    </tr>\n    <tr>\n      <th>2</th>\n      <td>500</td>\n      <td>64.02952</td>\n    </tr>\n    <tr>\n      <th>3</th>\n      <td>600</td>\n      <td>70.84343</td>\n    </tr>\n    <tr>\n      <th>4</th>\n      <td>675</td>\n      <td>79.54338</td>\n    </tr>\n    <tr>\n      <th>5</th>\n      <td>810</td>\n      <td>104.86160</td>\n    </tr>\n    <tr>\n      <th>6</th>\n      <td>1000</td>\n      <td>168.29550</td>\n    </tr>\n    <tr>\n      <th>7</th>\n      <td>1550</td>\n      <td>457.17890</td>\n    </tr>\n  </tbody>\n</table>\n</div>"
     },
     "execution_count": 4,
     "metadata": {},
     "output_type": "execute_result"
    }
   ],
   "source": [
    "df.rename_axis(\"OK\")"
   ],
   "metadata": {
    "collapsed": false,
    "pycharm": {
     "name": "#%%\n"
    }
   }
  },
  {
   "cell_type": "code",
   "execution_count": null,
   "outputs": [],
   "source": [
    "\n"
   ],
   "metadata": {
    "collapsed": false,
    "pycharm": {
     "name": "#%%\n"
    }
   }
  }
 ],
 "metadata": {
  "kernelspec": {
   "display_name": "Python 3",
   "language": "python",
   "name": "python3"
  },
  "language_info": {
   "codemirror_mode": {
    "name": "ipython",
    "version": 2
   },
   "file_extension": ".py",
   "mimetype": "text/x-python",
   "name": "python",
   "nbconvert_exporter": "python",
   "pygments_lexer": "ipython2",
   "version": "2.7.6"
  }
 },
 "nbformat": 4,
 "nbformat_minor": 0
}